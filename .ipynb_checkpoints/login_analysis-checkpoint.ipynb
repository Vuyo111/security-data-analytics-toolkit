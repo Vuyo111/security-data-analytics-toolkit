{
 "cells": [
  {
   "cell_type": "code",
   "execution_count": null,
   "id": "c6f6dd6f-ff47-4874-8a8a-6130c1bacef6",
   "metadata": {},
   "outputs": [],
   "source": [
    "import pandas as pd\n",
    "\n",
    "df = pd.read_csv('../data/login_logs.csv')\n",
    "df.head()\n",
    "\n"
   ]
  },
  {
   "cell_type": "code",
   "execution_count": null,
   "id": "2c29d80e-cb16-4981-8958-74cda04a27be",
   "metadata": {},
   "outputs": [],
   "source": [
    "# Filter failed logins\n",
    "failed_logins = df[df['status'] == 'failed']\n",
    "failed_logins.head()\n"
   ]
  },
  {
   "cell_type": "code",
   "execution_count": null,
   "id": "b6bca528-d0fd-4794-9e99-2a2e579b0a58",
   "metadata": {},
   "outputs": [],
   "source": [
    "top_failed_users = failed_logins['username'].value_counts().head(5)\n",
    "print(\"Top 5 users with failed logins:\")\n",
    "print(top_failed_users)\n"
   ]
  },
  {
   "cell_type": "code",
   "execution_count": null,
   "id": "dd356300-4a00-4c61-99ba-bc6669999428",
   "metadata": {},
   "outputs": [],
   "source": [
    "if 'ip_address' in failed_logins.columns:\n",
    "    top_failed_ips = failed_logins['ip_address'].value_counts().head(5)\n",
    "    print(\"\\nTop 5 IP addresses with failed logins:\")\n",
    "    print(top_failed_ips)\n"
   ]
  },
  {
   "cell_type": "code",
   "execution_count": null,
   "id": "f0824745-bddf-4c64-9512-2c43329bb407",
   "metadata": {},
   "outputs": [],
   "source": [
    "import pandas as pd\n",
    "\n",
    "# Convert 'timestamp' column to datetime (if not already)\n",
    "df['timestamp'] = pd.to_datetime(df['timestamp'], errors='coerce')\n",
    "\n",
    "# Check if any conversion failed (NaT means failed conversion)\n",
    "if df['timestamp'].isnull().any():\n",
    "    print(\"Warning: Some timestamps couldn't be converted!\")\n",
    "\n",
    "# Then filter failed logins again after conversion\n",
    "failed_logins = df[df['status'] == 'failed']\n",
    "\n",
    "# Now set timestamp as the DataFrame index\n",
    "failed_logins = failed_logins.set_index('timestamp')\n",
    "\n",
    "# Confirm index is datetime\n",
    "print(type(failed_logins.index))\n"
   ]
  },
  {
   "cell_type": "code",
   "execution_count": null,
   "id": "38d9fdf4-76da-4632-84a2-3aaaea1d16ee",
   "metadata": {},
   "outputs": [],
   "source": [
    "import matplotlib.pyplot as plt\n",
    "\n",
    "# Resample by minute and count failed logins per minute\n",
    "failed_per_minute = failed_logins.resample('T').size()  # 'T' = minute frequency\n",
    "\n",
    "# Plotting\n",
    "plt.figure(figsize=(12,6))\n",
    "failed_per_minute.plot(kind='bar', color='red')\n",
    "plt.title('Failed Login Attempts Per Minute')\n",
    "plt.xlabel('Time')\n",
    "plt.ylabel('Number of Failed Logins')\n",
    "plt.xticks(rotation=45)\n",
    "plt.tight_layout()\n",
    "plt.show()\n",
    "\n"
   ]
  },
  {
   "cell_type": "code",
   "execution_count": null,
   "id": "bc15b04e-76e2-431c-86cd-475127b61864",
   "metadata": {},
   "outputs": [],
   "source": [
    "failed_logins['username'].value_counts()\n",
    "\n"
   ]
  },
  {
   "cell_type": "code",
   "execution_count": null,
   "id": "f19fb54f-e8e4-47b0-aa52-bdef73bf04c1",
   "metadata": {},
   "outputs": [],
   "source": [
    "# Flag users with more than 2 failed logins\n",
    "suspicious_users = failed_logins['username'].value_counts()\n",
    "suspicious_users = suspicious_users[suspicious_users > 2]\n",
    "\n",
    "print(\"🚨 Users with more than 2 failed logins:\")\n",
    "print(suspicious_users)\n",
    "\n",
    "# Optional: Flag IPs too, with same lower threshold\n",
    "if 'ip_address' in failed_logins.columns:\n",
    "    suspicious_ips = failed_logins['ip_address'].value_counts()\n",
    "    suspicious_ips = suspicious_ips[suspicious_ips > 2]\n",
    "\n",
    "    print(\"\\n🚨 IP addresses with more than 2 failed logins:\")\n",
    "    print(suspicious_ips)\n"
   ]
  },
  {
   "cell_type": "code",
   "execution_count": null,
   "id": "75297101-d018-4f41-826b-49c230a8c190",
   "metadata": {},
   "outputs": [],
   "source": [
    "import matplotlib.pyplot as plt\n",
    "\n",
    "# Count successes and failures\n",
    "status_counts = df['status'].value_counts()\n",
    "\n",
    "# Plot a pie chart\n",
    "plt.figure(figsize=(6,6))\n",
    "status_counts.plot(\n",
    "    kind='pie',\n",
    "    autopct='%1.1f%%',\n",
    "    startangle=90,\n",
    "    ylabel='',         # hide the y‑label\n",
    "    title='Login Outcome Breakdown'\n",
    ")\n",
    "plt.tight_layout()\n",
    "plt.show()\n"
   ]
  },
  {
   "cell_type": "code",
   "execution_count": null,
   "id": "589d564d-0b90-4422-965c-02e0d88f5ff3",
   "metadata": {},
   "outputs": [],
   "source": [
    "# Total attempts\n",
    "total = len(df)\n",
    "\n",
    "# Total failed and successful\n",
    "failed = len(df[df['status']=='failed'])\n",
    "success = len(df[df['status']=='success'])\n",
    "\n",
    "print(\"🛡️ Security Data Analytics Dashboard\")\n",
    "print(f\"• Total login attempts : {total}\")\n",
    "print(f\"• Failed login attempts: {failed}\")\n",
    "print(f\"• Successful logins     : {success}\\n\")\n",
    "\n",
    "# Top 3 users by failed count\n",
    "top3_users = failed_logins['username'].value_counts().head(3)\n",
    "print(\"• Top 3 users (failed logins):\")\n",
    "print(top3_users.to_string(), \"\\n\")\n",
    "\n",
    "# Top 3 IPs by failed count (if present)\n",
    "if 'ip_address' in failed_logins.columns:\n",
    "    top3_ips = failed_logins['ip_address'].value_counts().head(3)\n",
    "    print(\"• Top 3 IPs (failed logins):\")\n",
    "    print(top3_ips.to_string())\n"
   ]
  },
  {
   "cell_type": "code",
   "execution_count": null,
   "id": "2e4d4167-c3eb-4fd2-a95f-fde487eef264",
   "metadata": {},
   "outputs": [],
   "source": []
  }
 ],
 "metadata": {
  "kernelspec": {
   "display_name": "Python 3 (ipykernel)",
   "language": "python",
   "name": "python3"
  },
  "language_info": {
   "codemirror_mode": {
    "name": "ipython",
    "version": 3
   },
   "file_extension": ".py",
   "mimetype": "text/x-python",
   "name": "python",
   "nbconvert_exporter": "python",
   "pygments_lexer": "ipython3",
   "version": "3.13.5"
  }
 },
 "nbformat": 4,
 "nbformat_minor": 5
}
